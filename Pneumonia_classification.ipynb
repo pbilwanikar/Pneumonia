{
 "cells": [
  {
   "cell_type": "markdown",
   "id": "31b34dee",
   "metadata": {},
   "source": [
    "### Image Classification Model----> Predicting if the person is infected by Pneumonia or not"
   ]
  },
  {
   "cell_type": "code",
   "execution_count": 25,
   "id": "5f503420",
   "metadata": {},
   "outputs": [
    {
     "name": "stdout",
     "output_type": "stream",
     "text": [
      "Libraries Loaded\n"
     ]
    },
    {
     "name": "stderr",
     "output_type": "stream",
     "text": [
      "/usr/local/lib/python3.9/site-packages/tensorflow/python/client/session.py:1761: UserWarning: An interactive session is already active. This can cause out-of-memory errors in some cases. You must explicitly call `InteractiveSession.close()` to release resources held by the other session(s).\n",
      "  warnings.warn('An interactive session is already active. This can '\n"
     ]
    }
   ],
   "source": [
    "from tensorflow.compat.v1 import ConfigProto\n",
    "from tensorflow.compat.v1 import InteractiveSession\n",
    "\n",
    "config = ConfigProto()\n",
    "config.gpu_options.per_process_gpu_memory_fraction = 0.5\n",
    "config.gpu_options.allow_growth = True\n",
    "session = InteractiveSession(config= config)\n",
    "\n",
    "import tensorflow as tf\n",
    "from tensorflow.keras.preprocessing.image import ImageDataGenerator\n",
    "\n",
    "print(\"Libraries Loaded\")"
   ]
  },
  {
   "cell_type": "code",
   "execution_count": 26,
   "id": "4ab8c058",
   "metadata": {},
   "outputs": [
    {
     "name": "stdout",
     "output_type": "stream",
     "text": [
      "Data Preprocessing --- Done\n"
     ]
    }
   ],
   "source": [
    "train_datagen = ImageDataGenerator(rescale=1./255,\n",
    "                                  shear_range=0.2,\n",
    "                                  zoom_range=0.2,\n",
    "                                  horizontal_flip=True)\n",
    "\n",
    "print(\"Data Preprocessing --- Done\")"
   ]
  },
  {
   "cell_type": "code",
   "execution_count": 27,
   "id": "b6a09177",
   "metadata": {},
   "outputs": [],
   "source": [
    "test_datgen = ImageDataGenerator(rescale=1./255)\n",
    "val_datagen = ImageDataGenerator(rescale=1./255)"
   ]
  },
  {
   "cell_type": "code",
   "execution_count": 28,
   "id": "0eb4ad10",
   "metadata": {},
   "outputs": [
    {
     "name": "stdout",
     "output_type": "stream",
     "text": [
      "Found 5216 images belonging to 2 classes.\n",
      "Found 624 images belonging to 2 classes.\n",
      "Found 16 images belonging to 2 classes.\n"
     ]
    }
   ],
   "source": [
    "train_set = train_datagen.flow_from_directory('chest_xray/train',\n",
    "                                             target_size=(64,64),\n",
    "                                             batch_size=32,\n",
    "                                             class_mode='binary')\n",
    "\n",
    "test_set = test_datgen.flow_from_directory('chest_xray/test',\n",
    "                                          target_size=(64,64),\n",
    "                                          batch_size=32,\n",
    "                                          class_mode='binary')\n",
    "\n",
    "val_set = val_datagen.flow_from_directory('chest_xray/val',\n",
    "                                             target_size=(64,64),\n",
    "                                             batch_size=32,\n",
    "                                             class_mode='binary')"
   ]
  },
  {
   "cell_type": "code",
   "execution_count": 29,
   "id": "49e30c05",
   "metadata": {},
   "outputs": [],
   "source": [
    "from tensorflow.keras.layers import Conv2D"
   ]
  },
  {
   "cell_type": "code",
   "execution_count": 30,
   "id": "ebb7b066",
   "metadata": {},
   "outputs": [],
   "source": [
    "pneumonia_cnn = tf.keras.models.Sequential()"
   ]
  },
  {
   "cell_type": "code",
   "execution_count": 31,
   "id": "53805531",
   "metadata": {},
   "outputs": [],
   "source": [
    "pneumonia_cnn.add(tf.keras.layers.Conv2D(filters=32, padding = 'same',\n",
    "                                        kernel_size=3, activation='relu',\n",
    "                                        input_shape = [64,64,3]))"
   ]
  },
  {
   "cell_type": "code",
   "execution_count": 32,
   "id": "e23e3298",
   "metadata": {},
   "outputs": [],
   "source": [
    "pneumonia_cnn.add(tf.keras.layers.MaxPool2D(pool_size = 2, strides =3))\n"
   ]
  },
  {
   "cell_type": "code",
   "execution_count": 33,
   "id": "c48d642c",
   "metadata": {},
   "outputs": [],
   "source": [
    "pneumonia_cnn.add(tf.keras.layers.Conv2D(filters = 32, padding='same',\n",
    "                                        kernel_size = 3, activation = 'relu'))\n",
    "\n",
    "pneumonia_cnn.add(tf.keras.layers.MaxPool2D(pool_size = 2, strides =3))"
   ]
  },
  {
   "cell_type": "code",
   "execution_count": 34,
   "id": "b43f3ca6",
   "metadata": {
    "scrolled": false
   },
   "outputs": [],
   "source": [
    "pneumonia_cnn.add(tf.keras.layers.Flatten())\n"
   ]
  },
  {
   "cell_type": "code",
   "execution_count": 35,
   "id": "88e82ce0",
   "metadata": {},
   "outputs": [],
   "source": [
    "pneumonia_cnn.add(tf.keras.layers.Dense(units = 128, activation ='relu'))"
   ]
  },
  {
   "cell_type": "code",
   "execution_count": 36,
   "id": "8130f52e",
   "metadata": {},
   "outputs": [],
   "source": [
    "pneumonia_cnn.add(tf.keras.layers.Dense(units = 64, activation='relu'))"
   ]
  },
  {
   "cell_type": "code",
   "execution_count": 37,
   "id": "358e9769",
   "metadata": {},
   "outputs": [],
   "source": [
    "pneumonia_cnn.add(tf.keras.layers.Dense(units = 32, activation='relu'))"
   ]
  },
  {
   "cell_type": "code",
   "execution_count": 38,
   "id": "d08a814a",
   "metadata": {},
   "outputs": [],
   "source": [
    "pneumonia_cnn.add(tf.keras.layers.Dense(units = 1, activation='sigmoid'))"
   ]
  },
  {
   "cell_type": "code",
   "execution_count": 39,
   "id": "051f7236",
   "metadata": {},
   "outputs": [
    {
     "name": "stdout",
     "output_type": "stream",
     "text": [
      "Model: \"sequential_1\"\n",
      "_________________________________________________________________\n",
      "Layer (type)                 Output Shape              Param #   \n",
      "=================================================================\n",
      "conv2d_4 (Conv2D)            (None, 64, 64, 32)        896       \n",
      "_________________________________________________________________\n",
      "max_pooling2d_5 (MaxPooling2 (None, 21, 21, 32)        0         \n",
      "_________________________________________________________________\n",
      "conv2d_5 (Conv2D)            (None, 21, 21, 32)        9248      \n",
      "_________________________________________________________________\n",
      "max_pooling2d_6 (MaxPooling2 (None, 7, 7, 32)          0         \n",
      "_________________________________________________________________\n",
      "flatten_1 (Flatten)          (None, 1568)              0         \n",
      "_________________________________________________________________\n",
      "dense_4 (Dense)              (None, 128)               200832    \n",
      "_________________________________________________________________\n",
      "dense_5 (Dense)              (None, 64)                8256      \n",
      "_________________________________________________________________\n",
      "dense_6 (Dense)              (None, 32)                2080      \n",
      "_________________________________________________________________\n",
      "dense_7 (Dense)              (None, 1)                 33        \n",
      "=================================================================\n",
      "Total params: 221,345\n",
      "Trainable params: 221,345\n",
      "Non-trainable params: 0\n",
      "_________________________________________________________________\n"
     ]
    }
   ],
   "source": [
    "pneumonia_cnn.summary()"
   ]
  },
  {
   "cell_type": "code",
   "execution_count": null,
   "id": "d7f576e0",
   "metadata": {},
   "outputs": [],
   "source": []
  },
  {
   "cell_type": "code",
   "execution_count": 40,
   "id": "57b4a1e0",
   "metadata": {},
   "outputs": [],
   "source": [
    "pneumonia_cnn.compile(optimizer='adam', loss='binary_crossentropy', metrics=['accuracy'])"
   ]
  },
  {
   "cell_type": "code",
   "execution_count": 41,
   "id": "d5c51ced",
   "metadata": {},
   "outputs": [
    {
     "name": "stderr",
     "output_type": "stream",
     "text": [
      "2021-08-12 08:22:39.748274: I tensorflow/compiler/mlir/mlir_graph_optimization_pass.cc:176] None of the MLIR Optimization Passes are enabled (registered 2)\n"
     ]
    },
    {
     "name": "stdout",
     "output_type": "stream",
     "text": [
      "Epoch 1/15\n",
      "163/163 [==============================] - 77s 464ms/step - loss: 0.3968 - accuracy: 0.8227 - val_loss: 0.3870 - val_accuracy: 0.8125\n",
      "Epoch 2/15\n",
      "163/163 [==============================] - 80s 489ms/step - loss: 0.2433 - accuracy: 0.9007 - val_loss: 0.6610 - val_accuracy: 0.7500\n",
      "Epoch 3/15\n",
      "163/163 [==============================] - 81s 499ms/step - loss: 0.2149 - accuracy: 0.9107 - val_loss: 0.5474 - val_accuracy: 0.8125\n",
      "Epoch 4/15\n",
      "163/163 [==============================] - 82s 501ms/step - loss: 0.1905 - accuracy: 0.9247 - val_loss: 0.8441 - val_accuracy: 0.6875\n",
      "Epoch 5/15\n",
      "163/163 [==============================] - 81s 495ms/step - loss: 0.1874 - accuracy: 0.9262 - val_loss: 0.8968 - val_accuracy: 0.6875\n",
      "Epoch 6/15\n",
      "163/163 [==============================] - 80s 492ms/step - loss: 0.1675 - accuracy: 0.9344 - val_loss: 0.8669 - val_accuracy: 0.6875\n",
      "Epoch 7/15\n",
      "163/163 [==============================] - 80s 489ms/step - loss: 0.1661 - accuracy: 0.9367 - val_loss: 0.6694 - val_accuracy: 0.7500\n",
      "Epoch 8/15\n",
      "163/163 [==============================] - 79s 484ms/step - loss: 0.1732 - accuracy: 0.9316 - val_loss: 0.4703 - val_accuracy: 0.6250\n",
      "Epoch 9/15\n",
      "163/163 [==============================] - 79s 482ms/step - loss: 0.1567 - accuracy: 0.9406 - val_loss: 0.7693 - val_accuracy: 0.7500\n",
      "Epoch 10/15\n",
      "163/163 [==============================] - 79s 482ms/step - loss: 0.1474 - accuracy: 0.9427 - val_loss: 0.8032 - val_accuracy: 0.6875\n",
      "Epoch 11/15\n",
      "163/163 [==============================] - 79s 485ms/step - loss: 0.1474 - accuracy: 0.9461 - val_loss: 0.5440 - val_accuracy: 0.6875\n",
      "Epoch 12/15\n",
      "163/163 [==============================] - 79s 485ms/step - loss: 0.1266 - accuracy: 0.9528 - val_loss: 1.1157 - val_accuracy: 0.6875\n",
      "Epoch 13/15\n",
      "163/163 [==============================] - 79s 484ms/step - loss: 0.1323 - accuracy: 0.9503 - val_loss: 0.6090 - val_accuracy: 0.6875\n",
      "Epoch 14/15\n",
      "163/163 [==============================] - 79s 487ms/step - loss: 0.1300 - accuracy: 0.9509 - val_loss: 0.5858 - val_accuracy: 0.5625\n",
      "Epoch 15/15\n",
      "163/163 [==============================] - 83s 506ms/step - loss: 0.1230 - accuracy: 0.9526 - val_loss: 0.4629 - val_accuracy: 0.8125\n"
     ]
    },
    {
     "data": {
      "text/plain": [
       "<tensorflow.python.keras.callbacks.History at 0x150d0fdc0>"
      ]
     },
     "execution_count": 41,
     "metadata": {},
     "output_type": "execute_result"
    }
   ],
   "source": [
    "pneumonia_cnn.fit(x = train_set, validation_data=val_set, epochs = 15)"
   ]
  },
  {
   "cell_type": "code",
   "execution_count": 42,
   "id": "d85268af",
   "metadata": {},
   "outputs": [],
   "source": [
    "from tensorflow.keras.models import load_model\n",
    "pneumonia_cnn.save('model_pneumonia_.h5')"
   ]
  },
  {
   "cell_type": "code",
   "execution_count": 43,
   "id": "34de6e8c",
   "metadata": {},
   "outputs": [],
   "source": [
    "model = load_model('model_pneumonia_.h5')"
   ]
  },
  {
   "cell_type": "code",
   "execution_count": 44,
   "id": "7655af5a",
   "metadata": {},
   "outputs": [
    {
     "name": "stdout",
     "output_type": "stream",
     "text": [
      "Model: \"sequential_1\"\n",
      "_________________________________________________________________\n",
      "Layer (type)                 Output Shape              Param #   \n",
      "=================================================================\n",
      "conv2d_4 (Conv2D)            (None, 64, 64, 32)        896       \n",
      "_________________________________________________________________\n",
      "max_pooling2d_5 (MaxPooling2 (None, 21, 21, 32)        0         \n",
      "_________________________________________________________________\n",
      "conv2d_5 (Conv2D)            (None, 21, 21, 32)        9248      \n",
      "_________________________________________________________________\n",
      "max_pooling2d_6 (MaxPooling2 (None, 7, 7, 32)          0         \n",
      "_________________________________________________________________\n",
      "flatten_1 (Flatten)          (None, 1568)              0         \n",
      "_________________________________________________________________\n",
      "dense_4 (Dense)              (None, 128)               200832    \n",
      "_________________________________________________________________\n",
      "dense_5 (Dense)              (None, 64)                8256      \n",
      "_________________________________________________________________\n",
      "dense_6 (Dense)              (None, 32)                2080      \n",
      "_________________________________________________________________\n",
      "dense_7 (Dense)              (None, 1)                 33        \n",
      "=================================================================\n",
      "Total params: 221,345\n",
      "Trainable params: 221,345\n",
      "Non-trainable params: 0\n",
      "_________________________________________________________________\n"
     ]
    }
   ],
   "source": [
    "model.summary()"
   ]
  },
  {
   "cell_type": "code",
   "execution_count": 46,
   "id": "dea87067",
   "metadata": {},
   "outputs": [],
   "source": [
    "result = []\n",
    "\n",
    "import numpy as np\n",
    "from tensorflow.keras.preprocessing import image\n"
   ]
  },
  {
   "cell_type": "code",
   "execution_count": 54,
   "id": "64326cc8",
   "metadata": {
    "scrolled": false
   },
   "outputs": [],
   "source": [
    "\n",
    "import numpy as np\n",
    "from tensorflow.keras.preprocessing import image\n",
    "test_image = image.load_img('chest_xray/test/PNEUMONIA/person100_bacteria_478.jpeg', target_size = (64,64))\n",
    "test_image = image.img_to_array(test_image)\n",
    "test_image=test_image/255\n",
    "test_image = np.expand_dims(test_image, axis = 0)\n",
    "result = pneumonia_cnn.predict(test_image)"
   ]
  },
  {
   "cell_type": "code",
   "execution_count": 55,
   "id": "80735eb4",
   "metadata": {},
   "outputs": [
    {
     "data": {
      "text/plain": [
       "array([[0.9997214]], dtype=float32)"
      ]
     },
     "execution_count": 55,
     "metadata": {},
     "output_type": "execute_result"
    }
   ],
   "source": [
    "result"
   ]
  },
  {
   "cell_type": "code",
   "execution_count": 56,
   "id": "595a5c46",
   "metadata": {},
   "outputs": [],
   "source": [
    "test_image = image.load_img('chest_xray/test/NORMAL/IM-0007-0001.jpeg', target_size = (64,64))\n",
    "test_image = image.img_to_array(test_image)\n",
    "test_image=test_image/255\n",
    "test_image = np.expand_dims(test_image, axis = 0)\n",
    "result = pneumonia_cnn.predict(test_image)"
   ]
  },
  {
   "cell_type": "code",
   "execution_count": 57,
   "id": "31b76e38",
   "metadata": {},
   "outputs": [
    {
     "data": {
      "text/plain": [
       "array([[0.08298311]], dtype=float32)"
      ]
     },
     "execution_count": 57,
     "metadata": {},
     "output_type": "execute_result"
    }
   ],
   "source": [
    "result"
   ]
  },
  {
   "cell_type": "code",
   "execution_count": 58,
   "id": "e95af7be",
   "metadata": {},
   "outputs": [
    {
     "name": "stdout",
     "output_type": "stream",
     "text": [
      "The person is normal\n"
     ]
    }
   ],
   "source": [
    "if result[0]<=0.5:\n",
    "    print('The person is normal')\n",
    "else:\n",
    "    print(\"Person infected by pneumonia\")"
   ]
  }
 ],
 "metadata": {
  "kernelspec": {
   "display_name": "Python 3 (ipykernel)",
   "language": "python",
   "name": "python3"
  },
  "language_info": {
   "codemirror_mode": {
    "name": "ipython",
    "version": 3
   },
   "file_extension": ".py",
   "mimetype": "text/x-python",
   "name": "python",
   "nbconvert_exporter": "python",
   "pygments_lexer": "ipython3",
   "version": "3.9.6"
  }
 },
 "nbformat": 4,
 "nbformat_minor": 5
}
